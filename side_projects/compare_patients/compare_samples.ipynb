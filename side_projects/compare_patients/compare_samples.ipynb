{
 "cells": [
  {
   "cell_type": "code",
   "execution_count": 3,
   "metadata": {},
   "outputs": [],
   "source": [
    "import os\n",
    "f = r\"cpg\"\n",
    "first_file = os.path.join(f, \"average_covariance_between_cpg_CRC11_chr_1_region_NCandA1.bedgraph\")\n",
    "second_file = os.path.join(f,\"average_covariance_between_cpg_CRC11_chr_1_region_NCandA2.bedgraph\")\n",
    "third_file = os.path.join(f,\"average_covariance_between_cpg_CRC11_chr_1_region_NCandB.bedgraph\")\n",
    "\n",
    "pmd_dict_mu = {}"
   ]
  },
  {
   "cell_type": "code",
   "execution_count": 4,
   "metadata": {},
   "outputs": [],
   "source": [
    "import pandas as pd\n",
    "import numpy as np\n",
    "import pickle"
   ]
  },
  {
   "cell_type": "code",
   "execution_count": 9,
   "metadata": {},
   "outputs": [],
   "source": [
    "def get_covariance_pmd_df(bedgraph_path, chromosome):\n",
    "    covariance_df = pd.read_csv(bedgraph_path, sep=\"\\t\", names=[\"chr\", \"start\", \"end\", \"coverage\"],\n",
    "                                usecols=[\"start\", \"coverage\"], index_col=\"start\")\n",
    "\n",
    "    pmd_dict = read_pmd_dict(os.path.join(f,\"pmd_dict.pickle\"))\n",
    "    pmd_list = pmd_dict[chromosome]\n",
    "    prev_mask = None\n",
    "    for pmd_tuple in pmd_list:\n",
    "        start, end = pmd_tuple\n",
    "        pmd_mask = (covariance_df.index >= start) & (covariance_df.index <= end)\n",
    "        prev_mask = np.logical_or(pmd_mask, prev_mask) if prev_mask is not None else pmd_mask\n",
    "\n",
    "    return covariance_df.loc[prev_mask, :]"
   ]
  },
  {
   "cell_type": "code",
   "execution_count": 10,
   "metadata": {},
   "outputs": [],
   "source": [
    "def read_pmd_dict(file_path=(os.path.join(f,\"pmd_dict.pickle\"))):\n",
    "    if pmd_dict_mu != {}:\n",
    "        return pmd_dict_mu\n",
    "\n",
    "    with open(file_path, \"rb\") as pmd_dict_f:\n",
    "        pmd_dict = pickle.load(pmd_dict_f)\n",
    "\n",
    "        return pmd_dict"
   ]
  },
  {
   "cell_type": "code",
   "execution_count": 7,
   "metadata": {},
   "outputs": [],
   "source": [
    "import seaborn as sns\n",
    "import matplotlib.pyplot as plt\n",
    "import pandas as pd\n",
    "from scipy.stats import kde\n",
    "plt.style.use('seaborn')"
   ]
  },
  {
   "cell_type": "code",
   "execution_count": 11,
   "metadata": {},
   "outputs": [
    {
     "name": "stderr",
     "output_type": "stream",
     "text": [
      "c:\\users\\dror bar\\appdata\\local\\programs\\python\\python37\\lib\\site-packages\\numpy\\lib\\arraysetops.py:569: FutureWarning: elementwise comparison failed; returning scalar instead, but in the future will perform elementwise comparison\n  mask |= (ar1 == a)\n"
     ]
    },
    {
     "name": "stderr",
     "output_type": "stream",
     "text": [
      "c:\\users\\dror bar\\appdata\\local\\programs\\python\\python37\\lib\\site-packages\\numpy\\lib\\arraysetops.py:569: FutureWarning: elementwise comparison failed; returning scalar instead, but in the future will perform elementwise comparison\n  mask |= (ar1 == a)\n"
     ]
    }
   ],
   "source": [
    "first_df = get_covariance_pmd_df(first_file, \"chr1\")\n",
    "second_df = get_covariance_pmd_df(second_file, \"chr1\")\n",
    "third_df = get_covariance_pmd_df(third_file, \"chr1\")\n",
    "\n",
    "third_df = third_df[third_df.coverage < 0.2]\n",
    "third_df = third_df[third_df.coverage > 0]\n",
    "\n",
    "first_df = first_df[first_df.coverage < 0.2]\n",
    "first_df = first_df[first_df.coverage > 0]\n",
    "\n",
    "second_df = second_df[second_df.coverage < 0.2]\n",
    "second_df = second_df[second_df.coverage > 0]\n",
    "\n",
    "indexes12 = first_df.index.intersection(second_df.index)\n",
    "indexes13 = first_df.index.intersection(third_df.index)\n",
    "\n",
    "first_df12 = first_df.filter(indexes12, axis=0)\n",
    "second_df12 = second_df.filter(indexes12, axis=0)\n",
    "\n",
    "first_df13 = first_df.filter(indexes13, axis=0)\n",
    "third_df13 = third_df.filter(indexes13, axis=0)\n",
    "\n",
    "\n",
    "vo12 = np.hstack((first_df12._values, second_df12._values))\n",
    "df12 = pd.DataFrame(data=vo12,  columns=[\"x\", \"y\"])\n",
    "\n",
    "\n",
    "vo13 = np.hstack((first_df13._values, third_df13._values))\n",
    "df13 = pd.DataFrame(data=vo13,  columns=[\"x\", \"y\"])"
   ]
  },
  {
   "cell_type": "code",
   "execution_count": 13,
   "metadata": {},
   "outputs": [
    {
     "data": {
      "text/plain": [
       "153303"
      ]
     },
     "execution_count": 13,
     "metadata": {},
     "output_type": "execute_result"
    }
   ],
   "source": [
    "dfs12 = df12.sample(frac=1)\n",
    "dfs12.shape[0]"
   ]
  },
  {
   "cell_type": "code",
   "execution_count": 14,
   "metadata": {},
   "outputs": [
    {
     "data": {
      "image/png": "[encoded data removed]",
      "text/plain": [
       "<Figure size 432x432 with 3 Axes>"
      ]
     },
     "metadata": {},
     "output_type": "display_data"
    }
   ],
   "source": [
    "sns.jointplot(x=\"x\", y=\"y\", data=dfs12, kind=\"kde\")"
   ]
  },
  {
   "cell_type": "code",
   "execution_count": 16,
   "metadata": {},
   "outputs": [
    {
     "data": {
      "text/plain": [
       "143896"
      ]
     },
     "execution_count": 16,
     "metadata": {},
     "output_type": "execute_result"
    }
   ],
   "source": [
    "dfs13 = df13.sample(frac=1)\n",
    "dfs13.shape[0]"
   ]
  },
  {
   "cell_type": "code",
   "execution_count": 17,
   "metadata": {
    "collapsed": false
   },
   "outputs": [],
   "source": [
    "sns.jointplot(x=\"x\", y=\"y\", data=dfs13, kind=\"kde\");"
   ]
  },
  {
   "cell_type": "code",
   "execution_count": 154,
   "metadata": {
    "collapsed": true
   },
   "outputs": [
    {
     "name": "stderr",
     "output_type": "stream",
     "text": [
      "/srv/conda/envs/notebook/lib/python3.7/site-packages/numpy/lib/arraysetops.py:569: FutureWarning: elementwise comparison failed; returning scalar instead, but in the future will perform elementwise comparison\n",
      "  mask |= (ar1 == a)\n"
     ]
    },
    {
     "data": {
      "text/html": [
       "<div>\n",
       "<style scoped>\n",
       "    .dataframe tbody tr th:only-of-type {\n",
       "        vertical-align: middle;\n",
       "    }\n",
       "\n",
       "    .dataframe tbody tr th {\n",
       "        vertical-align: top;\n",
       "    }\n",
       "\n",
       "    .dataframe thead th {\n",
       "        text-align: right;\n",
       "    }\n",
       "</style>\n",
       "<table border=\"1\" class=\"dataframe\">\n",
       "  <thead>\n",
       "    <tr style=\"text-align: right;\">\n",
       "      <th></th>\n",
       "      <th>coverage</th>\n",
       "    </tr>\n",
       "  </thead>\n",
       "  <tbody>\n",
       "    <tr>\n",
       "      <th>count</th>\n",
       "      <td>412408.000000</td>\n",
       "    </tr>\n",
       "    <tr>\n",
       "      <th>mean</th>\n",
       "      <td>0.026966</td>\n",
       "    </tr>\n",
       "    <tr>\n",
       "      <th>std</th>\n",
       "      <td>0.052127</td>\n",
       "    </tr>\n",
       "    <tr>\n",
       "      <th>min</th>\n",
       "      <td>-0.315789</td>\n",
       "    </tr>\n",
       "    <tr>\n",
       "      <th>25%</th>\n",
       "      <td>0.000000</td>\n",
       "    </tr>\n",
       "    <tr>\n",
       "      <th>50%</th>\n",
       "      <td>0.000000</td>\n",
       "    </tr>\n",
       "    <tr>\n",
       "      <th>75%</th>\n",
       "      <td>0.045184</td>\n",
       "    </tr>\n",
       "    <tr>\n",
       "      <th>max</th>\n",
       "      <td>0.500000</td>\n",
       "    </tr>\n",
       "  </tbody>\n",
       "</table>\n",
       "</div>"
      ],
      "text/plain": [
       "            coverage\n",
       "count  412408.000000\n",
       "mean        0.026966\n",
       "std         0.052127\n",
       "min        -0.315789\n",
       "25%         0.000000\n",
       "50%         0.000000\n",
       "75%         0.045184\n",
       "max         0.500000"
      ]
     },
     "execution_count": 154,
     "metadata": {},
     "output_type": "execute_result"
    }
   ],
   "source": [
    "pmd_first = get_covariance_pmd_df(first_file, \"chr1\")\n",
    "pmd_first.describe()"
   ]
  },
  {
   "cell_type": "code",
   "execution_count": 141,
   "metadata": {},
   "outputs": [
    {
     "data": {
      "text/plain": [
       "coverage    0.092937\n",
       "Name: 0.9, dtype: float64"
      ]
     },
     "execution_count": 141,
     "metadata": {},
     "output_type": "execute_result"
    }
   ],
   "source": [
    "pmd_first.quantile(0.9)"
   ]
  },
  {
   "cell_type": "code",
   "execution_count": 167,
   "metadata": {},
   "outputs": [],
   "source": [
    "pmd = pmd_first[pmd_first.coverage>=0]\n",
    "pmd = pmd[pmd.coverage<0.2]"
   ]
  },
  {
   "cell_type": "code",
   "execution_count": 168,
   "metadata": {
    "collapsed": true
   },
   "outputs": [
    {
     "data": {
      "text/html": [
       "<div>\n",
       "<style scoped>\n",
       "    .dataframe tbody tr th:only-of-type {\n",
       "        vertical-align: middle;\n",
       "    }\n",
       "\n",
       "    .dataframe tbody tr th {\n",
       "        vertical-align: top;\n",
       "    }\n",
       "\n",
       "    .dataframe thead th {\n",
       "        text-align: right;\n",
       "    }\n",
       "</style>\n",
       "<table border=\"1\" class=\"dataframe\">\n",
       "  <thead>\n",
       "    <tr style=\"text-align: right;\">\n",
       "      <th></th>\n",
       "      <th>coverage</th>\n",
       "    </tr>\n",
       "  </thead>\n",
       "  <tbody>\n",
       "    <tr>\n",
       "      <th>count</th>\n",
       "      <td>357563.000000</td>\n",
       "    </tr>\n",
       "    <tr>\n",
       "      <th>mean</th>\n",
       "      <td>0.029325</td>\n",
       "    </tr>\n",
       "    <tr>\n",
       "      <th>std</th>\n",
       "      <td>0.041697</td>\n",
       "    </tr>\n",
       "    <tr>\n",
       "      <th>min</th>\n",
       "      <td>0.000000</td>\n",
       "    </tr>\n",
       "    <tr>\n",
       "      <th>25%</th>\n",
       "      <td>0.000000</td>\n",
       "    </tr>\n",
       "    <tr>\n",
       "      <th>50%</th>\n",
       "      <td>0.003646</td>\n",
       "    </tr>\n",
       "    <tr>\n",
       "      <th>75%</th>\n",
       "      <td>0.050000</td>\n",
       "    </tr>\n",
       "    <tr>\n",
       "      <th>max</th>\n",
       "      <td>0.199713</td>\n",
       "    </tr>\n",
       "  </tbody>\n",
       "</table>\n",
       "</div>"
      ],
      "text/plain": [
       "            coverage\n",
       "count  357563.000000\n",
       "mean        0.029325\n",
       "std         0.041697\n",
       "min         0.000000\n",
       "25%         0.000000\n",
       "50%         0.003646\n",
       "75%         0.050000\n",
       "max         0.199713"
      ]
     },
     "execution_count": 168,
     "metadata": {},
     "output_type": "execute_result"
    }
   ],
   "source": [
    "pmd.describe()"
   ]
  },
  {
   "cell_type": "code",
   "execution_count": 194,
   "metadata": {},
   "outputs": [],
   "source": [
    "pmd_without_zero = pmd[pmd.coverage>0] "
   ]
  },
  {
   "cell_type": "code",
   "execution_count": 198,
   "metadata": {
    "collapsed": true
   },
   "outputs": [
    {
     "data": {
      "text/plain": [
       "array([[<matplotlib.axes._subplots.AxesSubplot object at 0x7f48804675c0>]],\n",
       "      dtype=object)"
      ]
     },
     "execution_count": 198,
     "metadata": {},
     "output_type": "execute_result"
    },
    {
     "data": {
      "image/png": "[encoded data removed]",
      "text/plain": [
       "<Figure size 432x288 with 1 Axes>"
      ]
     },
     "metadata": {
      "needs_background": "light"
     },
     "output_type": "display_data"
    }
   ],
   "source": [
    "pmd.hist()"
   ]
  },
  {
   "cell_type": "code",
   "execution_count": 232,
   "metadata": {
    "collapsed": true
   },
   "outputs": [
    {
     "name": "stderr",
     "output_type": "stream",
     "text": [
      "/srv/conda/envs/notebook/lib/python3.7/site-packages/numpy/lib/arraysetops.py:569: FutureWarning: elementwise comparison failed; returning scalar instead, but in the future will perform elementwise comparison\n",
      "  mask |= (ar1 == a)\n",
      "/srv/conda/envs/notebook/lib/python3.7/site-packages/numpy/lib/arraysetops.py:569: FutureWarning: elementwise comparison failed; returning scalar instead, but in the future will perform elementwise comparison\n",
      "  mask |= (ar1 == a)\n",
      "/srv/conda/envs/notebook/lib/python3.7/site-packages/numpy/lib/arraysetops.py:569: FutureWarning: elementwise comparison failed; returning scalar instead, but in the future will perform elementwise comparison\n",
      "  mask |= (ar1 == a)\n"
     ]
    }
   ],
   "source": [
    "first_df = get_covariance_pmd_df(first_file, \"chr1\")\n",
    "second_df = get_covariance_pmd_df(second_file, \"chr1\")\n",
    "third_df = get_covariance_pmd_df(third_file, \"chr1\")\n",
    "\n",
    "third_df = third_df[third_df.coverage < 0.1]\n",
    "third_df = third_df[third_df.coverage > 0]\n",
    "\n",
    "first_df = first_df[first_df.coverage < 0.1]\n",
    "first_df = first_df[first_df.coverage > 0]\n",
    "\n",
    "second_df = second_df[second_df.coverage < 0.1]\n",
    "second_df = second_df[second_df.coverage > 0]\n",
    "\n",
    "indexes12 = first_df.index.intersection(second_df.index)\n",
    "indexes13 = first_df.index.intersection(third_df.index)\n",
    "\n",
    "first_df12 = first_df.filter(indexes12, axis=0)\n",
    "second_df12 = second_df.filter(indexes12, axis=0)\n",
    "\n",
    "first_df13 = first_df.filter(indexes13, axis=0)\n",
    "third_df13 = third_df.filter(indexes13, axis=0)\n",
    "\n",
    "\n",
    "vo12 = np.hstack((first_df12._values, second_df12._values))\n",
    "df12 = pd.DataFrame(data=vo12,  columns=[\"x\", \"y\"])\n",
    "\n",
    "\n",
    "vo13 = np.hstack((first_df13._values, third_df13._values))\n",
    "df13 = pd.DataFrame(data=vo13,  columns=[\"x\", \"y\"])"
   ]
  },
  {
   "cell_type": "code",
   "execution_count": 233,
   "metadata": {},
   "outputs": [
    {
     "data": {
      "image/png": "[encoded data removed]",
      "text/plain": [
       "<Figure size 432x432 with 3 Axes>"
      ]
     },
     "metadata": {
      "needs_background": "light"
     },
     "output_type": "display_data"
    }
   ],
   "source": [
    "sns.jointplot(x=\"x\", y=\"y\", data=df12, kind=\"kde\");"
   ]
  },
  {
   "cell_type": "code",
   "execution_count": 234,
   "metadata": {},
   "outputs": [
    {
     "data": {
      "image/png": "[encoded data removed]",
      "text/plain": [
       "<Figure size 432x432 with 3 Axes>"
      ]
     },
     "metadata": {
      "needs_background": "light"
     },
     "output_type": "display_data"
    }
   ],
   "source": [
    "sns.jointplot(x=\"x\", y=\"y\", data=df13, kind=\"kde\");"
   ]
  },
  {
   "cell_type": "code",
   "execution_count": 238,
   "metadata": {},
   "outputs": [
    {
     "name": "stderr",
     "output_type": "stream",
     "text": [
      "/srv/conda/envs/notebook/lib/python3.7/site-packages/numpy/lib/arraysetops.py:569: FutureWarning: elementwise comparison failed; returning scalar instead, but in the future will perform elementwise comparison\n",
      "  mask |= (ar1 == a)\n",
      "/srv/conda/envs/notebook/lib/python3.7/site-packages/numpy/lib/arraysetops.py:569: FutureWarning: elementwise comparison failed; returning scalar instead, but in the future will perform elementwise comparison\n",
      "  mask |= (ar1 == a)\n",
      "/srv/conda/envs/notebook/lib/python3.7/site-packages/numpy/lib/arraysetops.py:569: FutureWarning: elementwise comparison failed; returning scalar instead, but in the future will perform elementwise comparison\n",
      "  mask |= (ar1 == a)\n"
     ]
    }
   ],
   "source": [
    "first_df = get_covariance_pmd_df(first_file, \"chr1\")\n",
    "second_df = get_covariance_pmd_df(second_file, \"chr1\")\n",
    "third_df = get_covariance_pmd_df(third_file, \"chr1\")\n",
    "\n",
    "third_df = third_df[third_df.coverage < 0.05]\n",
    "third_df = third_df[third_df.coverage > 0]\n",
    "\n",
    "first_df = first_df[first_df.coverage < 0.05]\n",
    "first_df = first_df[first_df.coverage > 0]\n",
    "\n",
    "second_df = second_df[second_df.coverage < 0.05]\n",
    "second_df = second_df[second_df.coverage > 0]\n",
    "\n",
    "indexes12 = first_df.index.intersection(second_df.index)\n",
    "indexes13 = first_df.index.intersection(third_df.index)\n",
    "\n",
    "first_df12 = first_df.filter(indexes12, axis=0)\n",
    "second_df12 = second_df.filter(indexes12, axis=0)\n",
    "\n",
    "first_df13 = first_df.filter(indexes13, axis=0)\n",
    "third_df13 = third_df.filter(indexes13, axis=0)\n",
    "\n",
    "\n",
    "vo12 = np.hstack((first_df12._values, second_df12._values))\n",
    "df12 = pd.DataFrame(data=vo12,  columns=[\"x\", \"y\"])\n",
    "\n",
    "\n",
    "vo13 = np.hstack((first_df13._values, third_df13._values))\n",
    "df13 = pd.DataFrame(data=vo13,  columns=[\"x\", \"y\"])"
   ]
  },
  {
   "cell_type": "code",
   "execution_count": 239,
   "metadata": {},
   "outputs": [
    {
     "data": {
      "image/png": "[encoded data removed]",
      "text/plain": [
       "<Figure size 432x432 with 3 Axes>"
      ]
     },
     "metadata": {
      "needs_background": "light"
     },
     "output_type": "display_data"
    }
   ],
   "source": [
    "sns.jointplot(x=\"x\", y=\"y\", data=df12, kind=\"kde\");"
   ]
  },
  {
   "cell_type": "code",
   "execution_count": 240,
   "metadata": {},
   "outputs": [
    {
     "data": {
      "image/png": "[encoded data removed]",
      "text/plain": [
       "<Figure size 432x432 with 3 Axes>"
      ]
     },
     "metadata": {
      "needs_background": "light"
     },
     "output_type": "display_data"
    }
   ],
   "source": [
    "sns.jointplot(x=\"x\", y=\"y\", data=df13, kind=\"kde\");"
   ]
  }
 ],
 "metadata": {
  "kernelspec": {
   "display_name": "Python 3",
   "language": "python",
   "name": "python3"
  },
  "language_info": {
   "codemirror_mode": {
    "name": "ipython",
    "version": 3
   },
   "file_extension": ".py",
   "mimetype": "text/x-python",
   "name": "python",
   "nbconvert_exporter": "python",
   "pygments_lexer": "ipython3",
   "version": "3.7.3"
  }
 },
 "nbformat": 4,
 "nbformat_minor": 4
}

{
  "nbformat": 4,
  "nbformat_minor": 0,
  "metadata": {
    "colab": {
      "name": "predict_permutation_didnt_work.ipynb",
      "provenance": [],
      "collapsed_sections": []
    },
    "kernelspec": {
      "name": "python3",
      "display_name": "Python 3"
    },
    "accelerator": "GPU"
  },
  "cells": [
    {
      "cell_type": "code",
      "metadata": {
        "id": "sJ8IIZCX9Pmf",
        "colab_type": "code",
        "outputId": "b734b69f-0fef-43f7-b606-54931d9c7359",
        "colab": {
          "base_uri": "https://localhost:8080/",
          "height": 139
        }
      },
      "source": [
        "from google.colab import drive\n",
        "drive.mount('/gdrive')\n",
        "%cd /gdrive "
      ],
      "execution_count": 0,
      "outputs": [
        {
          "output_type": "stream",
          "text": [
            "Go to this URL in a browser: https://accounts.google.com/o/oauth2/auth?client_id=947318989803-6bn6qk8qdgf4n4g3pfee6491hc0brc4i.apps.googleusercontent.com&redirect_uri=urn%3aietf%3awg%3aoauth%3a2.0%3aoob&response_type=code&scope=email%20https%3a%2f%2fwww.googleapis.com%2fauth%2fdocs.test%20https%3a%2f%2fwww.googleapis.com%2fauth%2fdrive%20https%3a%2f%2fwww.googleapis.com%2fauth%2fdrive.photos.readonly%20https%3a%2f%2fwww.googleapis.com%2fauth%2fpeopleapi.readonly\n",
            "\n",
            "Enter your authorization code:\n",
            "··········\n",
            "Mounted at /gdrive\n",
            "/gdrive\n"
          ],
          "name": "stdout"
        }
      ]
    },
    {
      "cell_type": "code",
      "metadata": {
        "id": "lTwEols-uLet",
        "colab_type": "code",
        "outputId": "1b859869-daaf-4f34-cf0a-fce48ee0da66",
        "colab": {
          "base_uri": "https://localhost:8080/",
          "height": 34
        }
      },
      "source": [
        "cd /gdrive/My\\ Drive/nn "
      ],
      "execution_count": 0,
      "outputs": [
        {
          "output_type": "stream",
          "text": [
            "/gdrive/My Drive/nn\n"
          ],
          "name": "stdout"
        }
      ]
    },
    {
      "cell_type": "code",
      "metadata": {
        "id": "Mf49QR2Q9bl-",
        "colab_type": "code",
        "outputId": "d281b2b9-b4ea-473e-a72a-41200dc8774c",
        "colab": {
          "base_uri": "https://localhost:8080/",
          "height": 34
        }
      },
      "source": [
        "%tensorflow_version 1.x\n",
        "import argparse\n",
        "import os\n",
        "import pickle\n",
        "import sys\n",
        "from itertools import combinations_with_replacement\n",
        "import numpy as np\n",
        "\n",
        "np.random.seed(7)  # for reproducibility\n",
        "\n",
        "import tensorflow as tf\n",
        "tf.random.set_random_seed(5005)\n",
        "\n",
        "from sklearn.model_selection import train_test_split, KFold\n",
        "\n",
        "# tf.python.control_flow_ops = tf\n",
        "\n",
        "\n",
        "from tensorflow.python.keras.models import Model, load_model\n",
        "from tensorflow.python.keras.layers import Input\n",
        "from tensorflow.python.keras.layers import Dense, Flatten, Dropout\n",
        "from tensorflow.python.keras.layers.convolutional import Conv1D\n",
        "from tensorflow.python.keras.layers.pooling import MaxPooling1D\n",
        "from tensorflow.keras.optimizers import Adam\n",
        "from tensorflow.python.keras.callbacks import ModelCheckpoint, EarlyStopping\n",
        "import tensorflow.python.keras.backend as K\n",
        "\n",
        "import matplotlib as mpl\n",
        "\n",
        "mpl.use('Agg')\n",
        "# from keras.utils.layer_utils import print_layer_shapes\n",
        "\n",
        "import utils\n",
        "sys.path.append(\".\")\n",
        "from utils import load_data_merged\n",
        "from utils import *\n",
        "\n",
        "from tensorflow.python.keras.backend import set_session\n",
        "\n",
        "model_path = \"./models/final.h5\"\n",
        "\n",
        "CLASS_PARTIAL_LOSS = 0\n",
        "CLASS_COMPLETELY_LOSS = 1 \n",
        "\n"
      ],
      "execution_count": 0,
      "outputs": [
        {
          "output_type": "stream",
          "text": [
            "TensorFlow 1.x selected.\n"
          ],
          "name": "stdout"
        }
      ]
    },
    {
      "cell_type": "code",
      "metadata": {
        "id": "bYzGDL1Ia4aU",
        "colab_type": "code",
        "colab": {}
      },
      "source": [
        "def get_prediction(data):\n",
        "\n",
        "  sess = tf.Session()\n",
        "  tf.random.set_random_seed(5005)\n",
        "  K.set_session(sess)\n",
        "\n",
        "  session = K.get_session()\n",
        "  init = tf.global_variables_initializer()\n",
        "  session.run(init)\n",
        "\n",
        "  with session.as_default():\n",
        "      with session:\n",
        "\n",
        "        model = load_model(model_path, custom_objects={'recall_TP': recall_TP,'recall_TN': recall_TN })\n",
        "        pred = model.predict(data)\n",
        "\n",
        "  return pred"
      ],
      "execution_count": 0,
      "outputs": []
    },
    {
      "cell_type": "code",
      "metadata": {
        "id": "y2uN0dCw7Llp",
        "colab_type": "code",
        "colab": {}
      },
      "source": [
        "def get_all_permutations(length):\n",
        "\n",
        "  permutions1 = combinations_with_replacement([\"C\",\"G\",\"A\",\"T\"], length)\n",
        "\n",
        "  seq_l = []\n",
        "  for i in permutions1:\n",
        "    permutions2 = combinations_with_replacement([\"C\",\"G\",\"A\",\"T\"], length)\n",
        "    for j in permutions2:\n",
        "      seq = \"\".join(i) + \"CG\" + \"\".join(j)\n",
        "\n",
        "      if seq.count(\"CG\") == 1:\n",
        "        seq_l.append(seq)\n",
        "\n",
        "  return list(set(seq_l))"
      ],
      "execution_count": 0,
      "outputs": []
    },
    {
      "cell_type": "code",
      "metadata": {
        "id": "ceTtxHnkPoP1",
        "colab_type": "code",
        "colab": {}
      },
      "source": [
        "def seq_to_mat(seq):\n",
        "    seq_len = len(seq)\n",
        "    seq = seq.replace('A', '0')\n",
        "    seq = seq.replace('a', '0')\n",
        "    seq = seq.replace('C', '1')\n",
        "    seq = seq.replace('c', '1')\n",
        "    seq = seq.replace('G', '2')\n",
        "    seq = seq.replace('g', '2')\n",
        "    seq = seq.replace('T', '3')\n",
        "    seq = seq.replace('t', '3')\n",
        "    seq = seq.replace('U', '3')\n",
        "    seq = seq.replace('u', '3')\n",
        "    seq = seq.replace('N', '4')  # some cases have N in sequence\n",
        "    seq = seq.replace('n', '4')\n",
        "    seq_code = np.zeros((4, seq_len), dtype='float16')\n",
        "\n",
        "    for i in range(seq_len):\n",
        "        if seq[i] == \"_\":\n",
        "          continue\n",
        "        \n",
        "        elif int(seq[i]) != 4:\n",
        "            seq_code[int(seq[i]), i] = 1\n",
        "\n",
        "        else:\n",
        "            seq_code[0:4, i] = np.tile(0.25, 4)\n",
        "\n",
        "    return np.transpose(seq_code)"
      ],
      "execution_count": 0,
      "outputs": []
    },
    {
      "cell_type": "code",
      "metadata": {
        "id": "Hs2hl7rYNicr",
        "colab_type": "code",
        "colab": {}
      },
      "source": [
        "def predict_for_seq_length(length):\n",
        "  sequences = get_all_permutations(length)\n",
        "  seq_length = len(sequences[0])\n",
        "  filler = int((150-seq_length) /2 )\n",
        "  full_sequences = []\n",
        "  for seq in sequences:\n",
        "    full_seq = filler * \"_\" + seq + filler * \"_\"\n",
        "    full_sequences.append(full_seq)\n",
        "\n",
        "  seq_mat = np.array([seq_to_mat(seq) for seq in full_sequences])\n",
        "  pred = get_prediction(seq_mat)\n",
        "  output = [(sequences[i], pred[i][0] * 100) for i in range(pred.shape[0])]\n",
        "  return output"
      ],
      "execution_count": 0,
      "outputs": []
    },
    {
      "cell_type": "code",
      "metadata": {
        "id": "b3g1kmD3O6o7",
        "colab_type": "code",
        "colab": {}
      },
      "source": [
        "output = predict_for_seq_length(3)"
      ],
      "execution_count": 0,
      "outputs": []
    },
    {
      "cell_type": "code",
      "metadata": {
        "id": "RLF_xTghRI2A",
        "colab_type": "code",
        "colab": {}
      },
      "source": [
        "with open(\"./3.csv\", \"w\") as c:\n",
        "  c.writelines([\"%s,%s\\n\" %(i[0], i[1]) for i in output])"
      ],
      "execution_count": 0,
      "outputs": []
    }
  ]
}
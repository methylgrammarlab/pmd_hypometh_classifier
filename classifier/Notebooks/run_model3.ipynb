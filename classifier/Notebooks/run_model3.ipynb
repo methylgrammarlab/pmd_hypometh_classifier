{
  "nbformat": 4,
  "nbformat_minor": 0,
  "metadata": {
    "colab": {
      "name": "run_model3.ipynb",
      "provenance": [],
      "collapsed_sections": [],
      "machine_shape": "hm"
    },
    "kernelspec": {
      "name": "python3",
      "display_name": "Python 3"
    },
    "accelerator": "GPU"
  },
  "cells": [
    {
      "cell_type": "code",
      "metadata": {
        "id": "1wz-ud5Hav1O",
        "colab_type": "code",
        "outputId": "de6cf3e3-c975-4be6-d8a9-6158ddbc8c44",
        "colab": {
          "base_uri": "https://localhost:8080/",
          "height": 139
        }
      },
      "source": [
        "from google.colab import drive\n",
        "drive.mount('/gdrive')\n",
        "%cd /gdrive "
      ],
      "execution_count": 1,
      "outputs": [
        {
          "output_type": "stream",
          "text": [
            "Go to this URL in a browser: https://accounts.google.com/o/oauth2/auth?client_id=947318989803-6bn6qk8qdgf4n4g3pfee6491hc0brc4i.apps.googleusercontent.com&redirect_uri=urn%3aietf%3awg%3aoauth%3a2.0%3aoob&response_type=code&scope=email%20https%3a%2f%2fwww.googleapis.com%2fauth%2fdocs.test%20https%3a%2f%2fwww.googleapis.com%2fauth%2fdrive%20https%3a%2f%2fwww.googleapis.com%2fauth%2fdrive.photos.readonly%20https%3a%2f%2fwww.googleapis.com%2fauth%2fpeopleapi.readonly\n",
            "\n",
            "Enter your authorization code:\n",
            "··········\n",
            "Mounted at /gdrive\n",
            "/gdrive\n"
          ],
          "name": "stdout"
        }
      ]
    },
    {
      "cell_type": "code",
      "metadata": {
        "id": "vjO8Tu5MbI-0",
        "colab_type": "code",
        "outputId": "58aa37f1-9b6a-45e6-c06a-dba9697af7a0",
        "colab": {
          "base_uri": "https://localhost:8080/",
          "height": 34
        }
      },
      "source": [
        "cd /gdrive/My\\ Drive/nn "
      ],
      "execution_count": 2,
      "outputs": [
        {
          "output_type": "stream",
          "text": [
            "/gdrive/My Drive/nn\n"
          ],
          "name": "stdout"
        }
      ]
    },
    {
      "cell_type": "code",
      "metadata": {
        "id": "5BI8sNFMb0Lp",
        "colab_type": "code",
        "colab": {}
      },
      "source": [
        "%tensorflow_version 1.x\n",
        "import argparse\n",
        "import os\n",
        "import pickle\n",
        "import sys\n",
        "\n",
        "import numpy as np\n",
        "\n",
        "np.random.seed(7)  # for reproducibility\n",
        "\n",
        "import tensorflow as tf\n",
        "tf.random.set_random_seed(5005)\n",
        "\n",
        "from sklearn.model_selection import train_test_split, KFold\n",
        "\n",
        "\n",
        "from tensorflow.python.keras.models import Model, load_model\n",
        "from tensorflow.python.keras.layers import Input\n",
        "from tensorflow.python.keras.layers import Dense, Flatten, Dropout\n",
        "from tensorflow.python.keras.layers.convolutional import Conv1D\n",
        "from tensorflow.python.keras.layers.pooling import MaxPooling1D\n",
        "from tensorflow.keras.optimizers import Adam\n",
        "from tensorflow.python.keras.callbacks import ModelCheckpoint, EarlyStopping\n",
        "import tensorflow.python.keras.backend as K\n",
        "from tensorflow.keras.utils import to_categorical\n",
        "from keras import regularizers\n",
        "\n",
        "import matplotlib as mpl\n",
        "\n",
        "mpl.use('Agg')\n",
        "import utils\n",
        "sys.path.append(\".\")\n",
        "from utils import precision, load_data_merged,recall_TN, recall_TP\n",
        "\n",
        "\n",
        "l2_lam = 5e-07 \n",
        "l1_lam = 1e-08 \n"
      ],
      "execution_count": 0,
      "outputs": []
    },
    {
      "cell_type": "code",
      "metadata": {
        "id": "lHcO6wobeAjx",
        "colab_type": "code",
        "colab": {}
      },
      "source": [
        "def train_diff_model(data_path, res_path, model_name, input_len,\n",
        "                     num_epoch, batchsize, func,model_path=\"./weights.hdf5\", \n",
        "                     number_of_folds=1, save=True):\n",
        "    \"\"\"\n",
        "    Training the model\n",
        "    :param data_path: path to file (consist of train, valid and test data)\n",
        "    :param res_path:\n",
        "    :param model_name:\n",
        "    :param input_len:\n",
        "    :param num_epoch:\n",
        "    :param batchsize:\n",
        "    :param model_path:\n",
        "    :return:\n",
        "    \"\"\"\n",
        "    print('creating model')\n",
        "    model = func(input_len)\n",
        "    print('compiling model')\n",
        "    adam = Adam(lr=0.001, beta_1=0.9, beta_2=0.999, epsilon=1e-08, decay=1e-6)\n",
        "    model.compile(loss='binary_crossentropy', optimizer=adam, metrics=['accuracy', recall_TN, recall_TP])\n",
        "    checkpointer = ModelCheckpoint(filepath=model_path, verbose=1, save_best_only=True)\n",
        "    earlystopper = EarlyStopping(monitor='val_loss', patience=5, verbose=1)\n",
        "\n",
        "    print('loading data')\n",
        "    x_train_list, y_train_list, x_valid_list, y_valid_list, x_test_seq, y_test = load_data_merged(data_path, input_len, kfold=number_of_folds)\n",
        "\n",
        "    print('fitting the model')\n",
        "    for i in range(len(x_train_list)):\n",
        "      print(\"Using fold %s/%s\" %(i+1, number_of_folds))\n",
        "      x_train_seq = x_train_list[i]\n",
        "      y_train = y_train_list[i]\n",
        "      x_valid_seq = x_valid_list[i]\n",
        "      y_valid = y_valid_list[i]\n",
        "\n",
        "      history = model.fit(x_train_seq, y_train, epochs=num_epoch, batch_size=batchsize,\n",
        "                          validation_data=(x_valid_seq, y_valid), verbose=1,\n",
        "                          callbacks=[checkpointer, earlystopper, ])  # tb])\n",
        "\n",
        "    print(\"Finish training\")\n",
        "    \n",
        "    if save:\n",
        "      print('saving the model')\n",
        "      model.save(os.path.join(res_path, model_name + \".h5\"))\n",
        "\n",
        "\n",
        "\n",
        "    print('testing the model')\n",
        "    score = model.evaluate(x_test_seq, y_test)\n",
        "\n",
        "    for i in range(len(model.metrics_names)):\n",
        "        print(str(model.metrics_names[i]) + \": \" + str(score[i]))"
      ],
      "execution_count": 0,
      "outputs": []
    },
    {
      "cell_type": "code",
      "metadata": {
        "id": "1ZcR2_tu6OFs",
        "colab_type": "code",
        "colab": {}
      },
      "source": [
        "train_diff_model(data_path=r\"dataset/solo_test_with_crc10_var_0.05.pkl\", \n",
        "                 res_path=\"./models\", model_name=\"150cpg\", model_path=\"./models/temp/3\",\n",
        "                 input_len=150, num_epoch=20, batchsize=128, number_of_folds=2,save=False, func = model26_another_chance_for_2nd_dense)\n"
      ],
      "execution_count": 0,
      "outputs": []
    },
    {
      "cell_type": "code",
      "metadata": {
        "id": "lPqgamArcwJq",
        "colab_type": "code",
        "colab": {}
      },
      "source": [
        "train_diff_model(data_path=r\"dataset/solo_test_with_crc10_var_0.05.pkl\", \n",
        "                 res_path=\"./models\", model_name=\"150cpg\", model_path=\"./models/temp/3\",\n",
        "                 input_len=150, num_epoch=20, batchsize=128, number_of_folds=1,save=False, func = model26_another_chance_for_2nd_dense)\n"
      ],
      "execution_count": 0,
      "outputs": []
    },
    {
      "cell_type": "markdown",
      "metadata": {
        "id": "06GOBU5s_3Y7",
        "colab_type": "text"
      },
      "source": [
        "**Models**"
      ]
    },
    {
      "cell_type": "code",
      "metadata": {
        "id": "DT4fAFmLwjfV",
        "colab_type": "code",
        "colab": {}
      },
      "source": [
        "def model_baseline_with_drop(input_len):\n",
        "    K.clear_session()\n",
        "    # tf.random.set_random_seed(5005)\n",
        "\n",
        "    input_node = Input(shape=(input_len, 4), name=\"input\")\n",
        "    conv1 = Conv1D(filters=90, kernel_size=7, padding='valid', activation=\"relu\", name=\"conv1\")(input_node)\n",
        "    pool1 = MaxPooling1D(pool_size=4, strides=2, name=\"pool1\")(conv1)\n",
        "    drop1 = Dropout(0.25, name=\"drop1\")(pool1)\n",
        "  \n",
        "    conv2 = Conv1D(filters=100, kernel_size=5, padding='valid', activation=\"relu\", name=\"conv2\")(drop1)\n",
        "    pool2 = MaxPooling1D(pool_size=10, strides=5)(conv2)\n",
        "    drop2 = Dropout(0.25)(pool2)\n",
        "    flat = Flatten()(drop2)\n",
        "\n",
        "    hidden1 = Dense(500, activation='relu', name=\"hidden1\")(flat)\n",
        "    drop3 = Dropout(0.25)(hidden1)\n",
        "    output = Dense(1, activation='sigmoid', name=\"output\")(drop3)\n",
        "    model = Model(inputs=[input_node], outputs=output)\n",
        "    print(model.summary())\n",
        "    return model"
      ],
      "execution_count": 0,
      "outputs": []
    },
    {
      "cell_type": "code",
      "metadata": {
        "id": "gXCy9B3CwlZV",
        "colab_type": "code",
        "colab": {}
      },
      "source": [
        "def model_baseline_with_smaller_conv(input_len):\n",
        "    K.clear_session()\n",
        "    # tf.random.set_random_seed(5005)\n",
        "\n",
        "    input_node = Input(shape=(input_len, 4), name=\"input\")\n",
        "    conv1 = Conv1D(filters=90, kernel_size=3, padding='valid', activation=\"relu\", name=\"conv1\")(input_node)\n",
        "    pool1 = MaxPooling1D(pool_size=2, strides=1, name=\"pool1\")(conv1)\n",
        "    drop1 = Dropout(0.25, name=\"drop1\")(pool1)\n",
        "  \n",
        "    conv2 = Conv1D(filters=100, kernel_size=5, padding='valid', activation=\"relu\", name=\"conv2\")(drop1)\n",
        "    pool2 = MaxPooling1D(pool_size=10, strides=5)(conv2)\n",
        "    drop2 = Dropout(0.25)(pool2)\n",
        "    flat = Flatten()(drop2)\n",
        "\n",
        "    hidden1 = Dense(500, activation='relu', name=\"hidden1\")(flat)\n",
        "    output = Dense(1, activation='sigmoid', name=\"output\")(hidden1)\n",
        "    model = Model(inputs=[input_node], outputs=output)\n",
        "    print(model.summary())\n",
        "    return model"
      ],
      "execution_count": 0,
      "outputs": []
    },
    {
      "cell_type": "code",
      "metadata": {
        "id": "xMKjTgwIwlkM",
        "colab_type": "code",
        "colab": {}
      },
      "source": [
        "def model_baseline_with_conv_1(input_len):\n",
        "    K.clear_session()\n",
        "    # tf.random.set_random_seed(5005)\n",
        "\n",
        "    input_node = Input(shape=(input_len, 4), name=\"input\")\n",
        "    conv0 = Conv1D(filters=90, kernel_size=1, padding='valid', activation=\"relu\", name=\"conv0\")(input_node)\n",
        "    conv1 = Conv1D(filters=90, kernel_size=3, padding='valid', activation=\"relu\", name=\"conv1\")(conv0)\n",
        "    pool1 = MaxPooling1D(pool_size=2, strides=1, name=\"pool1\")(conv1)\n",
        "    drop1 = Dropout(0.25, name=\"drop1\")(pool1)\n",
        "  \n",
        "    conv2 = Conv1D(filters=100, kernel_size=5, padding='valid', activation=\"relu\", name=\"conv2\")(drop1)\n",
        "    pool2 = MaxPooling1D(pool_size=10, strides=5)(conv2)\n",
        "    drop2 = Dropout(0.25)(pool2)\n",
        "    flat = Flatten()(drop2)\n",
        "\n",
        "    hidden1 = Dense(500, activation='relu', name=\"hidden1\")(flat)\n",
        "    output = Dense(1, activation='sigmoid', name=\"output\")(hidden1)\n",
        "    model = Model(inputs=[input_node], outputs=output)\n",
        "    print(model.summary())\n",
        "    return model"
      ],
      "execution_count": 0,
      "outputs": []
    },
    {
      "cell_type": "code",
      "metadata": {
        "id": "rOBD5ViNwlpZ",
        "colab_type": "code",
        "colab": {}
      },
      "source": [
        "def model26(input_len):\n",
        "    K.clear_session()\n",
        "    # tf.random.set_random_seed(5005)\n",
        "\n",
        "    input_node = Input(shape=(input_len, 4), name=\"input\")\n",
        "    conv0 = Conv1D(filters=90, kernel_size=1, padding='valid', activation=\"relu\", name=\"conv0\")(input_node)\n",
        "    conv1 = Conv1D(filters=90, kernel_size=3, padding='valid', activation=\"relu\", name=\"conv1\")(conv0)\n",
        "    pool1 = MaxPooling1D(pool_size=2, strides=1, name=\"pool1\")(conv1)\n",
        "    drop1 = Dropout(0.25, name=\"drop1\")(pool1)\n",
        "  \n",
        "    conv2 = Conv1D(filters=100, kernel_size=5, padding='valid', activation=\"relu\", name=\"conv2\")(drop1)\n",
        "    pool2 = MaxPooling1D(pool_size=2, strides=1)(conv2)\n",
        "    drop2 = Dropout(0.25)(pool2)\n",
        "    flat = Flatten()(drop2)\n",
        "\n",
        "    hidden1 = Dense(500, activation='relu', name=\"hidden1\")(flat)\n",
        "    output = Dense(1, activation='sigmoid', name=\"output\")(hidden1)\n",
        "    model = Model(inputs=[input_node], outputs=output)\n",
        "    print(model.summary())\n",
        "    return model"
      ],
      "execution_count": 0,
      "outputs": []
    },
    {
      "cell_type": "code",
      "metadata": {
        "id": "ljQUertKzUmA",
        "colab_type": "code",
        "colab": {}
      },
      "source": [
        "def model_baseline_with_conv_1_and_smaller_decrease_second_pool_no_dropout(input_len):\n",
        "    K.clear_session()\n",
        "    # tf.random.set_random_seed(5005)\n",
        "\n",
        "    input_node = Input(shape=(input_len, 4), name=\"input\")\n",
        "    conv0 = Conv1D(filters=90, kernel_size=1, padding='valid', activation=\"relu\", name=\"conv0\")(input_node)\n",
        "    conv1 = Conv1D(filters=90, kernel_size=3, padding='valid', activation=\"relu\", name=\"conv1\")(conv0)\n",
        "    pool1 = MaxPooling1D(pool_size=2, strides=1, name=\"pool1\")(conv1)\n",
        "    drop1 = Dropout(0.25, name=\"drop1\")(pool1)\n",
        "  \n",
        "    conv2 = Conv1D(filters=100, kernel_size=5, padding='valid', activation=\"relu\", name=\"conv2\")(drop1)\n",
        "    pool2 = MaxPooling1D(pool_size=2, strides=1)(conv2)\n",
        "    # drop2 = Dropout(0.25)(pool2)\n",
        "    flat = Flatten()(pool2)\n",
        "\n",
        "    hidden1 = Dense(500, activation='relu', name=\"hidden1\")(flat)\n",
        "    output = Dense(1, activation='sigmoid', name=\"output\")(hidden1)\n",
        "    model = Model(inputs=[input_node], outputs=output)\n",
        "    print(model.summary())\n",
        "    return model"
      ],
      "execution_count": 0,
      "outputs": []
    },
    {
      "cell_type": "code",
      "metadata": {
        "id": "MSSVM54AzUe-",
        "colab_type": "code",
        "colab": {}
      },
      "source": [
        "def model26_change_conv2(input_len):\n",
        "    K.clear_session()\n",
        "    # tf.random.set_random_seed(5005)\n",
        "\n",
        "    input_node = Input(shape=(input_len, 4), name=\"input\")\n",
        "    conv0 = Conv1D(filters=90, kernel_size=1, padding='valid', activation=\"relu\", name=\"conv0\")(input_node)\n",
        "    conv1 = Conv1D(filters=90, kernel_size=3, padding='valid', activation=\"relu\", name=\"conv1\")(conv0)\n",
        "    pool1 = MaxPooling1D(pool_size=2, strides=1, name=\"pool1\")(conv1)\n",
        "    drop1 = Dropout(0.25, name=\"drop1\")(pool1)\n",
        "  \n",
        "    conv2 = Conv1D(filters=100, kernel_size=3, padding='valid', activation=\"relu\", name=\"conv2\")(drop1)\n",
        "    pool2 = MaxPooling1D(pool_size=4, strides=2)(conv2)\n",
        "    drop2 = Dropout(0.25)(pool2)\n",
        "    flat = Flatten()(drop2)\n",
        "\n",
        "    hidden1 = Dense(500, activation='relu', name=\"hidden1\")(flat)\n",
        "    output = Dense(1, activation='sigmoid', name=\"output\")(hidden1)\n",
        "    model = Model(inputs=[input_node], outputs=output)\n",
        "    print(model.summary())\n",
        "    return model"
      ],
      "execution_count": 0,
      "outputs": []
    },
    {
      "cell_type": "code",
      "metadata": {
        "id": "7CU9eyEm44wR",
        "colab_type": "code",
        "colab": {}
      },
      "source": [
        "# To keep\n",
        "def model26_v2(input_len):\n",
        "    K.clear_session()\n",
        "    # tf.random.set_random_seed(5005)\n",
        "\n",
        "    input_node = Input(shape=(input_len, 4), name=\"input\")\n",
        "    conv0 = Conv1D(filters=90, kernel_size=1, padding='valid', activation=\"relu\", name=\"conv0\")(input_node)\n",
        "    conv1 = Conv1D(filters=90, kernel_size=3, padding='valid', activation=\"relu\", name=\"conv1\")(conv0)\n",
        "    pool1 = MaxPooling1D(pool_size=2, strides=1, name=\"pool1\")(conv1)\n",
        "    drop1 = Dropout(0.25, name=\"drop1\")(pool1)\n",
        "  \n",
        "    conv2 = Conv1D(filters=100, kernel_size=5, padding='valid', activation=\"relu\", name=\"conv2\")(drop1)\n",
        "    pool2 = MaxPooling1D(pool_size=2, strides=1)(conv2)\n",
        "    drop2 = Dropout(0.25)(pool2)\n",
        "    flat = Flatten()(drop2)\n",
        "\n",
        "    hidden1 = Dense(500, activation='relu', name=\"hidden1\")(flat)\n",
        "    output = Dense(1, activation='sigmoid', name=\"output\")(hidden1)\n",
        "    model = Model(inputs=[input_node], outputs=output)\n",
        "    print(model.summary())\n",
        "    return model"
      ],
      "execution_count": 0,
      "outputs": []
    },
    {
      "cell_type": "code",
      "metadata": {
        "id": "rEd5885X44ts",
        "colab_type": "code",
        "colab": {}
      },
      "source": [
        "def model26_another_chance_for_2nd_dense(input_len):\n",
        "    K.clear_session()\n",
        "    # tf.random.set_random_seed(5005)\n",
        "\n",
        "    input_node = Input(shape=(input_len, 4), name=\"input\")\n",
        "    conv0 = Conv1D(filters=90, kernel_size=1, padding='valid', activation=\"relu\", name=\"conv0\",kernel_regularizer=regularizers.l2(l2_lam))(input_node)\n",
        "    conv1 = Conv1D(filters=90, kernel_size=3, padding='valid', activation=\"relu\", name=\"conv1\",kernel_regularizer=regularizers.l2(l2_lam))(conv0)\n",
        "    pool1 = MaxPooling1D(pool_size=2, strides=1, name=\"pool1\")(conv1)\n",
        "    drop1 = Dropout(0.25, name=\"drop1\")(pool1)\n",
        "  \n",
        "    conv2 = Conv1D(filters=100, kernel_size=5, padding='valid', activation=\"relu\", name=\"conv2\", kernel_regularizer=regularizers.l2(l2_lam))(drop1)\n",
        "    pool2 = MaxPooling1D(pool_size=2, strides=1)(conv2)\n",
        "    drop2 = Dropout(0.25)(pool2)\n",
        "    flat = Flatten()(drop2)\n",
        "\n",
        "    hidden1 = Dense(500, activation='relu', name=\"hidden1\",kernel_regularizer=regularizers.l1(l1_lam))(flat)\n",
        "    drop3 = Dropout(0.25)(hidden1)\n",
        "    hidden2 = Dense(250, activation='relu', name=\"hidden2\",kernel_regularizer=regularizers.l1(l1_lam))(drop3)\n",
        "\n",
        "    output = Dense(1, activation='sigmoid', name=\"output\")(hidden2)\n",
        "    model = Model(inputs=[input_node], outputs=output)\n",
        "    print(model.summary())\n",
        "    return model"
      ],
      "execution_count": 0,
      "outputs": []
    },
    {
      "cell_type": "code",
      "metadata": {
        "id": "4_ZVWHiE44kl",
        "colab_type": "code",
        "colab": {}
      },
      "source": [
        ""
      ],
      "execution_count": 0,
      "outputs": []
    },
    {
      "cell_type": "code",
      "metadata": {
        "id": "gvS0AuwUwlnx",
        "colab_type": "code",
        "colab": {}
      },
      "source": [
        ""
      ],
      "execution_count": 0,
      "outputs": []
    },
    {
      "cell_type": "code",
      "metadata": {
        "id": "7Lv1OtwF_2FV",
        "colab_type": "code",
        "colab": {}
      },
      "source": [
        "def deepripe_model(input_len):\n",
        "    K.clear_session()\n",
        "    # tf.random.set_random_seed(5005)\n",
        "\n",
        "    input_node = Input(shape=(input_len, 4), name=\"input\")\n",
        "    conv1 = Conv1D(filters=90, kernel_size=7, padding='valid', activation=\"relu\", name=\"conv1\")(input_node)\n",
        "    pool1 = MaxPooling1D(pool_size=4, strides=2, name=\"pool1\")(conv1)\n",
        "    drop1 = Dropout(0.25, name=\"drop1\")(pool1)\n",
        "\n",
        "    conv2 = Conv1D(filters=100, kernel_size=5, padding='valid', activation=\"relu\", name=\"conv2\")(drop1)\n",
        "    pool2  = MaxPooling1D(pool_size=10, strides=5)(conv2)\n",
        "    drop2  = Dropout(0.25)(pool2)\n",
        "    flat = Flatten()(drop2)\n",
        "\n",
        "    hidden1 = Dense(250, activation='relu', name=\"hidden1\")(flat)\n",
        "    output = Dense(1, activation='sigmoid', name=\"output\")(hidden1)\n",
        "    model = Model(inputs=[input_node], outputs=output)\n",
        "    print(model.summary())\n",
        "    return model\n",
        "\n"
      ],
      "execution_count": 0,
      "outputs": []
    },
    {
      "cell_type": "code",
      "metadata": {
        "id": "V8Qiovq3_1_5",
        "colab_type": "code",
        "colab": {}
      },
      "source": [
        "def model_baseline(input_len):\n",
        "    K.clear_session()\n",
        "    # tf.random.set_random_seed(5005)\n",
        "\n",
        "    input_node = Input(shape=(input_len, 4), name=\"input\")\n",
        "    conv1 = Conv1D(filters=90, kernel_size=7, padding='valid', activation=\"relu\", name=\"conv1\")(input_node)\n",
        "    pool1 = MaxPooling1D(pool_size=4, strides=2, name=\"pool1\")(conv1)\n",
        "    drop1 = Dropout(0.25, name=\"drop1\")(pool1)\n",
        "  \n",
        "    conv2 = Conv1D(filters=100, kernel_size=5, padding='valid', activation=\"relu\", name=\"conv2\")(drop1)\n",
        "    pool2 = MaxPooling1D(pool_size=10, strides=5)(conv2)\n",
        "    drop2 = Dropout(0.25)(pool2)\n",
        "    flat = Flatten()(drop2)\n",
        "\n",
        "    hidden1 = Dense(500, activation='relu', name=\"hidden1\")(flat)\n",
        "    output = Dense(1, activation='sigmoid', name=\"output\")(hidden1)\n",
        "    model = Model(inputs=[input_node], outputs=output)\n",
        "    print(model.summary())\n",
        "    return model"
      ],
      "execution_count": 0,
      "outputs": []
    }
  ]
}
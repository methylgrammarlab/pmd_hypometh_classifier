{
  "nbformat": 4,
  "nbformat_minor": 0,
  "metadata": {
    "colab": {
      "name": "change_nucleotide.ipynb",
      "provenance": [],
      "collapsed_sections": []
    },
    "kernelspec": {
      "name": "python3",
      "display_name": "Python 3"
    },
    "accelerator": "GPU"
  },
  "cells": [
    {
      "cell_type": "code",
      "metadata": {
        "id": "nUGlXX36Df4P",
        "colab_type": "code",
        "colab": {}
      },
      "source": [
        "!pip install concise"
      ],
      "execution_count": 0,
      "outputs": []
    },
    {
      "cell_type": "code",
      "metadata": {
        "id": "sJ8IIZCX9Pmf",
        "colab_type": "code",
        "outputId": "5274a035-8c42-4e6d-933f-6eb411e3f887",
        "colab": {
          "base_uri": "https://localhost:8080/",
          "height": 51
        }
      },
      "source": [
        "from google.colab import drive\n",
        "drive.mount('/gdrive')\n",
        "%cd /gdrive \n"
      ],
      "execution_count": 0,
      "outputs": [
        {
          "output_type": "stream",
          "text": [
            "Drive already mounted at /gdrive; to attempt to forcibly remount, call drive.mount(\"/gdrive\", force_remount=True).\n",
            "/gdrive\n"
          ],
          "name": "stdout"
        }
      ]
    },
    {
      "cell_type": "code",
      "metadata": {
        "id": "lTwEols-uLet",
        "colab_type": "code",
        "outputId": "6145ba69-600c-4d49-910b-0711c4c63f16",
        "colab": {
          "base_uri": "https://localhost:8080/",
          "height": 34
        }
      },
      "source": [
        "cd /gdrive/My\\ Drive/nn "
      ],
      "execution_count": 0,
      "outputs": [
        {
          "output_type": "stream",
          "text": [
            "/gdrive/My Drive/nn\n"
          ],
          "name": "stdout"
        }
      ]
    },
    {
      "cell_type": "code",
      "metadata": {
        "id": "Mf49QR2Q9bl-",
        "colab_type": "code",
        "colab": {}
      },
      "source": [
        "%tensorflow_version 1.x\n",
        "import argparse\n",
        "import os\n",
        "import pickle\n",
        "import sys\n",
        "\n",
        "import numpy as np\n",
        "\n",
        "np.random.seed(7)  # for reproducibility\n",
        "\n",
        "import tensorflow as tf\n",
        "tf.random.set_random_seed(5005)\n",
        "\n",
        "from sklearn.model_selection import train_test_split, KFold\n",
        "\n",
        "# tf.python.control_flow_ops = tf\n",
        "\n",
        "\n",
        "from tensorflow.python.keras.models import Model, load_model\n",
        "from tensorflow.python.keras.layers import Input\n",
        "from tensorflow.python.keras.layers import Dense, Flatten, Dropout\n",
        "from tensorflow.python.keras.layers.convolutional import Conv1D\n",
        "from tensorflow.python.keras.layers.pooling import MaxPooling1D\n",
        "from tensorflow.keras.optimizers import Adam\n",
        "from tensorflow.python.keras.callbacks import ModelCheckpoint, EarlyStopping\n",
        "import tensorflow.python.keras.backend as K\n",
        "\n",
        "import matplotlib as mpl\n",
        "\n",
        "mpl.use('Agg')\n",
        "# from keras.utils.layer_utils import print_layer_shapes\n",
        "\n",
        "import utils\n",
        "sys.path.append(\".\")\n",
        "from utils import load_data_merged\n",
        "import plotseqlogo\n",
        "import IntegratedGradients\n",
        "from plotseqlogo import *\n",
        "from IntegratedGradients import *\n",
        "from utils import *\n",
        "\n",
        "from tensorflow.python.keras.backend import set_session\n",
        "\n",
        "model_path = \"./models/final.h5\"\n",
        "\n",
        "CLASS_PARTIAL_LOSS = 0\n",
        "CLASS_COMPLETELY_LOSS = 1 \n",
        "%matplotlib inline\n",
        "\n"
      ],
      "execution_count": 0,
      "outputs": []
    },
    {
      "cell_type": "code",
      "metadata": {
        "id": "mYfZWFxfDLNN",
        "colab_type": "code",
        "colab": {}
      },
      "source": [
        "_, _, _, _, x_test_seq, y_test = load_data_merged(r\"dataset/solo_test_with_crc10_var_0.05.pkl\", 150, False)"
      ],
      "execution_count": 0,
      "outputs": []
    },
    {
      "cell_type": "code",
      "metadata": {
        "id": "7EJqCfDc8jv8",
        "colab_type": "code",
        "colab": {}
      },
      "source": [
        "import re\n",
        "ss_re = re.compile(\"[CG]CG[CG]\")\n",
        "ww_re = re.compile(\"[AT]CG[AT]\")"
      ],
      "execution_count": 0,
      "outputs": []
    },
    {
      "cell_type": "code",
      "metadata": {
        "id": "bYzGDL1Ia4aU",
        "colab_type": "code",
        "colab": {}
      },
      "source": [
        "def vecs2dna(seq_vecs):\n",
        "    seqs = []\n",
        "    # seq_vecs = np.reshape(seq_vecs, (seq_vecs.shape[0], 4, -1))\n",
        "    for i in range(seq_vecs.shape[0]):\n",
        "        seq_list = [''] * seq_vecs.shape[1]\n",
        "        for j in range(seq_vecs.shape[1]):\n",
        "            if seq_vecs[i, j,0] > 0:\n",
        "                seq_list[j] = 'A'\n",
        "            elif seq_vecs[i, j, 1] >0:\n",
        "                seq_list[j] = 'C'\n",
        "            elif seq_vecs[i, j, 2] >0:\n",
        "                seq_list[j] = 'G'\n",
        "            elif seq_vecs[i, j, 3] >0 :\n",
        "                seq_list[j] = 'T'\n",
        "            else:\n",
        "                print(\"problem\")\n",
        "\n",
        "        seqs.append(''.join(seq_list))\n",
        "\n",
        "    return seqs\n",
        "\n",
        "def get_ex_ind(predict_label, thr=0.5):\n",
        "\n",
        "  sess = tf.Session()\n",
        "  tf.random.set_random_seed(5005)\n",
        "  K.set_session(sess)\n",
        "\n",
        "  session = K.get_session()\n",
        "  init = tf.global_variables_initializer()\n",
        "  session.run(init)\n",
        "\n",
        "  with session.as_default():\n",
        "      with session:\n",
        "        model = load_model(model_path, custom_objects={'recall_TP': recall_TP,'recall_TN': recall_TN })\n",
        "        pred = model.predict(x_test_seq)\n",
        "        ind= []\n",
        "\n",
        "        if predict_label ==CLASS_PARTIAL_LOSS:\n",
        "          pred = 1 - pred\n",
        "\n",
        "        for i in sorted(enumerate(pred), key=lambda x:x[1],reverse=True):\n",
        "          if y_test[i[0]]==predict_label and pred[i[0]] > thr:\n",
        "            ind.append(i[0])\n",
        "        \n",
        "  return ind\n",
        "\n",
        "def get_prediction(data):\n",
        "\n",
        "  sess = tf.Session()\n",
        "  tf.random.set_random_seed(5005)\n",
        "  K.set_session(sess)\n",
        "\n",
        "  session = K.get_session()\n",
        "  init = tf.global_variables_initializer()\n",
        "  session.run(init)\n",
        "\n",
        "  with session.as_default():\n",
        "      with session:\n",
        "\n",
        "        model = load_model(model_path, custom_objects={'recall_TP': recall_TP,'recall_TN': recall_TN })\n",
        "        pred = model.predict(data)\n",
        "\n",
        "  return pred"
      ],
      "execution_count": 0,
      "outputs": []
    },
    {
      "cell_type": "code",
      "metadata": {
        "id": "67psYRcidSlK",
        "colab_type": "code",
        "colab": {}
      },
      "source": [
        "def get_refrence_list_zeros_flank_1(seq_example):\n",
        "    rf = np.zeros(seq_example.shape)\n",
        "    m = int(seq_example.shape[0]/ 2 - 1)\n",
        "    for i in range(-2,2):\n",
        "      rf[m-i] = seq_example[m-i]\n",
        "    return rf\n",
        "\n",
        "def get_ex_seq(data, predict_label, number_of_seq, thr=0.5):\n",
        "\n",
        "  sess = tf.Session()\n",
        "  tf.random.set_random_seed(5005)\n",
        "  K.set_session(sess)\n",
        "\n",
        "  session = K.get_session()\n",
        "  init = tf.global_variables_initializer()\n",
        "  session.run(init)\n",
        "\n",
        "  with session.as_default():\n",
        "      with session:\n",
        "        model = load_model(model_path, custom_objects={'recall_TP': recall_TP,'recall_TN': recall_TN })\n",
        "        pred = model.predict(data)\n",
        "        ind= []\n",
        "\n",
        "        if predict_label ==CLASS_PARTIAL_LOSS:\n",
        "          pred = 1 - pred\n",
        "\n",
        "        for i in sorted(enumerate(pred), key=lambda x:x[1],reverse=True):\n",
        "          if y_test[i[0]]==predict_label and pred[i[0]] > thr:\n",
        "            ind.append(i[0])\n",
        "        \n",
        "        if number_of_seq != -1:\n",
        "          ind = ind[:number_of_seq]\n",
        "        \n",
        "        gradients = integrated_gradients(model) \n",
        "        ex_seq=np.array([gradients.explain([x_test_seq[i]],reference=[get_refrence_list_zeros_flank_1(x_test_seq[i])],num_steps=100)[0] for i in ind])\n",
        "\n",
        "        if predict_label == CLASS_PARTIAL_LOSS:\n",
        "          ex_seq = ex_seq * -1\n",
        "  \n",
        "  return ex_seq"
      ],
      "execution_count": 0,
      "outputs": []
    },
    {
      "cell_type": "markdown",
      "metadata": {
        "id": "fk_QGGIvXNJ2",
        "colab_type": "text"
      },
      "source": [
        "Change WW to SS total and plot total classificaton kept "
      ]
    },
    {
      "cell_type": "code",
      "metadata": {
        "id": "y2uN0dCw7Llp",
        "colab_type": "code",
        "colab": {}
      },
      "source": [
        "def get_cl_changes(thr):\n",
        "  # Look at all the CL which are WW and change to SS\n",
        "  cl_ind = get_ex_ind(CLASS_COMPLETELY_LOSS,thr=thr)\n",
        "  cl_seq_array = np.array([x_test_seq[i] for i in cl_ind])\n",
        "  cl_seq = vecs2dna(cl_seq_array)\n",
        "  cl_ww_seq = [i for i in cl_seq if ww_re.search(i) != None]\n",
        "  cl_ss_seq = [i for i in cl_seq if ss_re.search(i) !=None]\n",
        "\n",
        "  cl_ww_to_ss = []\n",
        "  for seq in cl_ww_seq:\n",
        "    new_seq = seq[:73] + \"CCGC\" + seq[77:]\n",
        "    cl_ww_to_ss.append(new_seq)\n",
        "\n",
        "    new_seq = seq[:73] + \"GCGG\" + seq[77:]\n",
        "    cl_ww_to_ss.append(new_seq)\n",
        "\n",
        "    new_seq = seq[:73] + \"CCGG\" + seq[77:]\n",
        "    cl_ww_to_ss.append(new_seq)\n",
        "\n",
        "    new_seq = seq[:73] + \"GCGC\" + seq[77:]\n",
        "    cl_ww_to_ss.append(new_seq)\n",
        "\n",
        "  expected = len(cl_ww_to_ss)\n",
        "  cl_ww_to_ss_arr = np.array([seq_to_mat(i) for i in cl_ww_to_ss])\n",
        "\n",
        "  pred = get_prediction(cl_ww_to_ss_arr)\n",
        "  return np.sum(pred>0.5) / expected * 100\n"
      ],
      "execution_count": 0,
      "outputs": []
    },
    {
      "cell_type": "code",
      "metadata": {
        "id": "3EKta_VWBitn",
        "colab_type": "code",
        "colab": {}
      },
      "source": [
        "thr_to_check = np.arange(0.5,1.0,0.05)\n",
        "l1 = []\n",
        "l2 = []\n",
        "\n",
        "for i in thr_to_check:\n",
        "  v =i\n",
        "  l1.append(v)\n",
        "  l2.append(get_cl_changes(v))"
      ],
      "execution_count": 0,
      "outputs": []
    },
    {
      "cell_type": "code",
      "metadata": {
        "id": "BYJ7uD8bBjhn",
        "colab_type": "code",
        "outputId": "d568cd7c-c691-4075-93cc-f9c7074f5e85",
        "colab": {
          "base_uri": "https://localhost:8080/",
          "height": 296
        }
      },
      "source": [
        "plt.plot(l1,l2)\n",
        "plt.xlabel(\"min certainty in original data\")\n",
        "plt.ylabel(\"% sequences which kept label\")"
      ],
      "execution_count": 0,
      "outputs": [
        {
          "output_type": "execute_result",
          "data": {
            "text/plain": [
              "Text(0, 0.5, '% sequences which kept label')"
            ]
          },
          "metadata": {
            "tags": []
          },
          "execution_count": 13
        },
        {
          "output_type": "display_data",
          "data": {
            "image/png": "[encoded data removed]",
            "text/plain": [
              "<Figure size 432x288 with 1 Axes>"
            ]
          },
          "metadata": {
            "tags": [],
            "needs_background": "light"
          }
        }
      ]
    },
    {
      "cell_type": "code",
      "metadata": {
        "id": "eWU9BjLWBjnV",
        "colab_type": "code",
        "colab": {}
      },
      "source": [
        ""
      ],
      "execution_count": 0,
      "outputs": []
    },
    {
      "cell_type": "markdown",
      "metadata": {
        "id": "lcecQMguXct5",
        "colab_type": "text"
      },
      "source": [
        "Caclculate CL ww to ss changes and integrated explanation"
      ]
    },
    {
      "cell_type": "code",
      "metadata": {
        "id": "-ZUVQf0t9dZF",
        "colab_type": "code",
        "colab": {}
      },
      "source": [
        "# len(cl_ss_predicted_cl)\n",
        "cl_ss_predicted_cl = [cl_ww_to_ss[i] for i in range(pred.shape[0]) if pred[i] > 0.75] + cl_ss_seq\n",
        "cl_ex_seq = get_ex_seq(np.array([seq_to_mat(i) for i in cl_ss_predicted_cl]),predict_label=CLASS_COMPLETELY_LOSS, number_of_seq=-1, thr=0.75)"
      ],
      "execution_count": 0,
      "outputs": []
    },
    {
      "cell_type": "code",
      "metadata": {
        "id": "lR5M-rl6lK6A",
        "colab_type": "code",
        "outputId": "4a9d40fb-3ce5-4f5b-dd82-341ee7d29601",
        "colab": {
          "base_uri": "https://localhost:8080/",
          "height": 34
        }
      },
      "source": [
        "# Look at all the PL which are SS and change to WW\n",
        "pl_ind = get_ex_ind(CLASS_PARTIAL_LOSS, thr=0.75)\n",
        "pl_seq_array = np.array([x_test_seq[i] for i in pl_ind])\n",
        "\n",
        "pl_seq = vecs2dna(pl_seq_array)\n",
        "pl_ww_seq = [i for i in pl_seq if ww_re.search(i) != None]\n",
        "pl_ss_seq = [i for i in pl_seq if ss_re.search(i) !=None]\n",
        "\n",
        "pl_ss_to_ww = []\n",
        "for seq in pl_ss_seq:\n",
        "  new_seq = seq[:73] + \"ACGA\" + seq[77:]\n",
        "  pl_ss_to_ww.append(new_seq)\n",
        "\n",
        "  new_seq = seq[:73] + \"ACGT\" + seq[77:]\n",
        "  pl_ss_to_ww.append(new_seq)\n",
        "\n",
        "  new_seq = seq[:73] + \"TCGT\" + seq[77:]\n",
        "  pl_ss_to_ww.append(new_seq)\n",
        "\n",
        "  new_seq = seq[:73] + \"TCGA\" + seq[77:]\n",
        "  pl_ss_to_ww.append(new_seq)\n",
        "\n",
        "expected = len(pl_ss_to_ww)\n",
        "pl_ww_to_ss_arr = np.array([seq_to_mat(i) for i in pl_ss_to_ww])\n",
        "\n",
        "pred = 1 - get_prediction(pl_ww_to_ss_arr)\n",
        "np.sum(pred>0.5) / expected * 100"
      ],
      "execution_count": 0,
      "outputs": [
        {
          "output_type": "execute_result",
          "data": {
            "text/plain": [
              "43.34658078662464"
            ]
          },
          "metadata": {
            "tags": []
          },
          "execution_count": 11
        }
      ]
    },
    {
      "cell_type": "code",
      "metadata": {
        "id": "qbbk9j7YDpMI",
        "colab_type": "code",
        "outputId": "57b03070-d701-4edb-ad3e-ad75e45bdc34",
        "colab": {
          "base_uri": "https://localhost:8080/",
          "height": 85
        }
      },
      "source": [
        "# len(cl_ss_predicted_cl)\n",
        "pl_ww_predicted_pl = [pl_ss_to_ww[i] for i in range(pred.shape[0]) if pred[i] > 0.75] + pl_ww_seq\n",
        "pl_ex_seq = get_ex_seq(np.array([seq_to_mat(i) for i in pl_ww_predicted_pl]),predict_label=CLASS_PARTIAL_LOSS, number_of_seq=-1, thr=0.75)"
      ],
      "execution_count": 0,
      "outputs": [
        {
          "output_type": "stream",
          "text": [
            "Evaluated output channel (0-based index): All\n",
            "Building gradient functions\n",
            "\rProgress: 100.0%\n",
            "Done.\n"
          ],
          "name": "stdout"
        }
      ]
    },
    {
      "cell_type": "code",
      "metadata": {
        "id": "c3oPGitYGXvE",
        "colab_type": "code",
        "colab": {}
      },
      "source": [
        "import pickle\n",
        "\n",
        "d = {\"cl\": cl_ex_seq, \"pl\": pl_ex_seq}\n",
        "\n",
        "with open(\"./gradients_explain/kept_prediction_after_changes_1_flank.pkl\", \"wb\") as f:\n",
        "  pickle.dump(d, f)"
      ],
      "execution_count": 0,
      "outputs": []
    }
  ]
}
{
  "nbformat": 4,
  "nbformat_minor": 0,
  "metadata": {
    "colab": {
      "name": "check_changes.ipynb",
      "provenance": [],
      "collapsed_sections": []
    },
    "kernelspec": {
      "name": "python3",
      "display_name": "Python 3"
    },
    "accelerator": "GPU"
  },
  "cells": [
    {
      "cell_type": "code",
      "metadata": {
        "id": "sJ8IIZCX9Pmf",
        "colab_type": "code",
        "outputId": "b4c9f72e-cbc7-4586-abc4-0fa20c0f7778",
        "colab": {
          "base_uri": "https://localhost:8080/",
          "height": 144
        }
      },
      "source": [
        "from google.colab import drive\n",
        "drive.mount('/gdrive')\n",
        "%cd /gdrive \n"
      ],
      "execution_count": 1,
      "outputs": [
        {
          "output_type": "stream",
          "text": [
            "Go to this URL in a browser: https://accounts.google.com/o/oauth2/auth?client_id=947318989803-6bn6qk8qdgf4n4g3pfee6491hc0brc4i.apps.googleusercontent.com&redirect_uri=urn%3aietf%3awg%3aoauth%3a2.0%3aoob&response_type=code&scope=email%20https%3a%2f%2fwww.googleapis.com%2fauth%2fdocs.test%20https%3a%2f%2fwww.googleapis.com%2fauth%2fdrive%20https%3a%2f%2fwww.googleapis.com%2fauth%2fdrive.photos.readonly%20https%3a%2f%2fwww.googleapis.com%2fauth%2fpeopleapi.readonly\n",
            "\n",
            "Enter your authorization code:\n",
            "··········\n",
            "Mounted at /gdrive\n",
            "/gdrive\n"
          ],
          "name": "stdout"
        }
      ]
    },
    {
      "cell_type": "code",
      "metadata": {
        "id": "lTwEols-uLet",
        "colab_type": "code",
        "outputId": "52a0dadc-cb07-456f-aa7c-d47727c8b271",
        "colab": {
          "base_uri": "https://localhost:8080/",
          "height": 35
        }
      },
      "source": [
        "cd /gdrive/My\\ Drive/nn "
      ],
      "execution_count": 2,
      "outputs": [
        {
          "output_type": "stream",
          "text": [
            "/gdrive/My Drive/nn\n"
          ],
          "name": "stdout"
        }
      ]
    },
    {
      "cell_type": "code",
      "metadata": {
        "id": "Mf49QR2Q9bl-",
        "colab_type": "code",
        "outputId": "c77007cc-bfc9-4a08-8ade-9af9a94dc07b",
        "colab": {
          "base_uri": "https://localhost:8080/",
          "height": 53
        }
      },
      "source": [
        "%tensorflow_version 1.x\n",
        "import argparse\n",
        "import os\n",
        "import pickle\n",
        "import sys\n",
        "\n",
        "import numpy as np\n",
        "\n",
        "np.random.seed(7)  # for reproducibility\n",
        "\n",
        "import tensorflow as tf\n",
        "tf.random.set_random_seed(5005)\n",
        "\n",
        "from sklearn.model_selection import train_test_split, KFold\n",
        "\n",
        "# tf.python.control_flow_ops = tf\n",
        "\n",
        "\n",
        "from tensorflow.python.keras.models import Model, load_model\n",
        "from tensorflow.python.keras.layers import Input\n",
        "from tensorflow.python.keras.layers import Dense, Flatten, Dropout\n",
        "from tensorflow.python.keras.layers.convolutional import Conv1D\n",
        "from tensorflow.python.keras.layers.pooling import MaxPooling1D\n",
        "from tensorflow.keras.optimizers import Adam\n",
        "from tensorflow.python.keras.callbacks import ModelCheckpoint, EarlyStopping\n",
        "import tensorflow.python.keras.backend as K\n",
        "\n",
        "import matplotlib as mpl\n",
        "\n",
        "mpl.use('Agg')\n",
        "# from keras.utils.layer_utils import print_layer_shapes\n",
        "\n",
        "import utils\n",
        "sys.path.append(\".\")\n",
        "from utils import load_data_merged\n",
        "from utils import *\n",
        "\n",
        "from tensorflow.python.keras.backend import set_session\n",
        "\n",
        "model_path = \"./models/final.h5\"\n",
        "\n",
        "CLASS_PARTIAL_LOSS = 0\n",
        "CLASS_COMPLETELY_LOSS = 1 \n",
        "\n",
        "_, _, _, _, x_test_seq, y_test = load_data_merged(r\"dataset/solo_test_with_crc10_var_0.05.pkl\", 150, False)"
      ],
      "execution_count": 3,
      "outputs": [
        {
          "output_type": "stream",
          "text": [
            "TensorFlow 1.x selected.\n"
          ],
          "name": "stdout"
        },
        {
          "output_type": "stream",
          "text": [
            "Using TensorFlow backend.\n"
          ],
          "name": "stderr"
        }
      ]
    },
    {
      "cell_type": "code",
      "metadata": {
        "id": "7EJqCfDc8jv8",
        "colab_type": "code",
        "colab": {}
      },
      "source": [
        "import re\n",
        "ss_re = re.compile(\"[CG]CG[CG]\")\n",
        "ww_re = re.compile(\"[AT]CG[AT]\")"
      ],
      "execution_count": 0,
      "outputs": []
    },
    {
      "cell_type": "code",
      "metadata": {
        "id": "bYzGDL1Ia4aU",
        "colab_type": "code",
        "colab": {}
      },
      "source": [
        "def vecs2dna(seq_vecs):\n",
        "    seqs = []\n",
        "    # seq_vecs = np.reshape(seq_vecs, (seq_vecs.shape[0], 4, -1))\n",
        "    for i in range(seq_vecs.shape[0]):\n",
        "        seq_list = [''] * seq_vecs.shape[1]\n",
        "        for j in range(seq_vecs.shape[1]):\n",
        "            if seq_vecs[i, j,0] > 0:\n",
        "                seq_list[j] = 'A'\n",
        "            elif seq_vecs[i, j, 1] >0:\n",
        "                seq_list[j] = 'C'\n",
        "            elif seq_vecs[i, j, 2] >0:\n",
        "                seq_list[j] = 'G'\n",
        "            elif seq_vecs[i, j, 3] >0 :\n",
        "                seq_list[j] = 'T'\n",
        "            else:\n",
        "                print(\"problem\")\n",
        "\n",
        "        seqs.append(''.join(seq_list))\n",
        "\n",
        "    return seqs\n",
        "\n",
        "def get_ex_ind(predict_label, thr=0.5):\n",
        "\n",
        "  sess = tf.Session()\n",
        "  tf.random.set_random_seed(5005)\n",
        "  K.set_session(sess)\n",
        "\n",
        "  session = K.get_session()\n",
        "  init = tf.global_variables_initializer()\n",
        "  session.run(init)\n",
        "\n",
        "  with session.as_default():\n",
        "      with session:\n",
        "        model = load_model(model_path, custom_objects={'recall_TP': recall_TP,'recall_TN': recall_TN })\n",
        "        pred = model.predict(x_test_seq)\n",
        "        ind= []\n",
        "\n",
        "        if predict_label ==CLASS_PARTIAL_LOSS:\n",
        "          pred = 1 - pred\n",
        "\n",
        "        for i in sorted(enumerate(pred), key=lambda x:x[1],reverse=True):\n",
        "          if y_test[i[0]]==predict_label and pred[i[0]] > thr:\n",
        "            ind.append(i[0])\n",
        "        \n",
        "  return ind\n",
        "\n",
        "def get_prediction(data):\n",
        "\n",
        "  sess = tf.Session()\n",
        "  tf.random.set_random_seed(5005)\n",
        "  K.set_session(sess)\n",
        "\n",
        "  session = K.get_session()\n",
        "  init = tf.global_variables_initializer()\n",
        "  session.run(init)\n",
        "\n",
        "  with session.as_default():\n",
        "      with session:\n",
        "\n",
        "        model = load_model(model_path, custom_objects={'recall_TP': recall_TP,'recall_TN': recall_TN })\n",
        "        pred = model.predict(data)\n",
        "\n",
        "  return pred"
      ],
      "execution_count": 0,
      "outputs": []
    },
    {
      "cell_type": "code",
      "metadata": {
        "id": "67psYRcidSlK",
        "colab_type": "code",
        "colab": {}
      },
      "source": [
        ""
      ],
      "execution_count": 0,
      "outputs": []
    },
    {
      "cell_type": "code",
      "metadata": {
        "id": "y2uN0dCw7Llp",
        "colab_type": "code",
        "colab": {
          "base_uri": "https://localhost:8080/",
          "height": 269
        },
        "outputId": "135ac3fc-f6fa-4cb6-a960-d1c9b6913f69"
      },
      "source": [
        "# Look at all the CL which are WW and change to SS\n",
        "cl_ind = get_ex_ind(CLASS_COMPLETELY_LOSS)\n",
        "cl_seq_array = np.array([x_test_seq[i] for i in cl_ind])\n",
        "cl_seq = vecs2dna(cl_seq_array)\n",
        "cl_ww_seq = [i for i in cl_seq if ww_re.search(i) != None]\n",
        "cl_ss_seq = [i for i in cl_seq if ss_re.search(i) !=None]\n",
        "\n",
        "cl_ww_to_ss = []\n",
        "for seq in cl_ww_seq:\n",
        "  new_seq = seq[:73] + \"CCGC\" + seq[77:]\n",
        "  cl_ww_to_ss.append(new_seq)\n",
        "\n",
        "  new_seq = seq[:73] + \"GCGG\" + seq[77:]\n",
        "  cl_ww_to_ss.append(new_seq)\n",
        "\n",
        "  new_seq = seq[:73] + \"CCGG\" + seq[77:]\n",
        "  cl_ww_to_ss.append(new_seq)\n",
        "\n",
        "  new_seq = seq[:73] + \"GCGC\" + seq[77:]\n",
        "  cl_ww_to_ss.append(new_seq)\n",
        "\n",
        "expected = len(cl_ww_to_ss)\n",
        "cl_ww_to_ss = np.array([seq_to_mat(i) for i in cl_ww_to_ss])\n",
        "\n",
        "pred = get_prediction(cl_ww_to_ss)\n",
        "np.sum(pred>0.5) / expected * 100"
      ],
      "execution_count": 6,
      "outputs": [
        {
          "output_type": "stream",
          "text": [
            "WARNING:tensorflow:From /tensorflow-1.15.2/python3.6/tensorflow_core/python/ops/init_ops.py:97: calling GlorotUniform.__init__ (from tensorflow.python.ops.init_ops) with dtype is deprecated and will be removed in a future version.\n",
            "Instructions for updating:\n",
            "Call initializer instance with the dtype argument instead of passing it to the constructor\n",
            "WARNING:tensorflow:From /tensorflow-1.15.2/python3.6/tensorflow_core/python/ops/init_ops.py:97: calling Zeros.__init__ (from tensorflow.python.ops.init_ops) with dtype is deprecated and will be removed in a future version.\n",
            "Instructions for updating:\n",
            "Call initializer instance with the dtype argument instead of passing it to the constructor\n",
            "WARNING:tensorflow:From /tensorflow-1.15.2/python3.6/tensorflow_core/python/ops/resource_variable_ops.py:1630: calling BaseResourceVariable.__init__ (from tensorflow.python.ops.resource_variable_ops) with constraint is deprecated and will be removed in a future version.\n",
            "Instructions for updating:\n",
            "If using Keras pass *_constraint arguments to layers.\n",
            "WARNING:tensorflow:From /tensorflow-1.15.2/python3.6/tensorflow_core/python/ops/nn_impl.py:183: where (from tensorflow.python.ops.array_ops) is deprecated and will be removed in a future version.\n",
            "Instructions for updating:\n",
            "Use tf.where in 2.0, which has the same broadcast rule as np.where\n"
          ],
          "name": "stdout"
        },
        {
          "output_type": "execute_result",
          "data": {
            "text/plain": [
              "19.563812600969303"
            ]
          },
          "metadata": {
            "tags": []
          },
          "execution_count": 6
        }
      ]
    },
    {
      "cell_type": "code",
      "metadata": {
        "id": "-ZUVQf0t9dZF",
        "colab_type": "code",
        "colab": {}
      },
      "source": [
        ""
      ],
      "execution_count": 0,
      "outputs": []
    },
    {
      "cell_type": "code",
      "metadata": {
        "id": "U2hpAKOwpptW",
        "colab_type": "code",
        "colab": {}
      },
      "source": [
        ""
      ],
      "execution_count": 0,
      "outputs": []
    },
    {
      "cell_type": "code",
      "metadata": {
        "id": "lR5M-rl6lK6A",
        "colab_type": "code",
        "colab": {}
      },
      "source": [
        "# Look at all the PL which are SS and change to WW\n",
        "pl_ind = get_ex_ind(CLASS_PARTIAL_LOSS)\n",
        "pl_seq_array = np.array([x_test_seq[i] for i in pl_ind])\n",
        "\n",
        "pl_seq = vecs2dna(pl_seq_array)\n",
        "cl_ww_seq = [i for i in pl_seq if ww_re.search(i) != None]\n",
        "ss_seq_seq = [i for i in pl_seq if ss_re.search(i) !=None]\n",
        "\n",
        "pl_ss_to_ww = []\n",
        "for seq in ss_seq_seq:\n",
        "  new_seq = seq[:73] + \"ACGA\" + seq[77:]\n",
        "  pl_ss_to_ww.append(new_seq)\n",
        "\n",
        "  new_seq = seq[:73] + \"ACGT\" + seq[77:]\n",
        "  pl_ss_to_ww.append(new_seq)\n",
        "\n",
        "  new_seq = seq[:73] + \"TCGT\" + seq[77:]\n",
        "  pl_ss_to_ww.append(new_seq)\n",
        "\n",
        "  new_seq = seq[:73] + \"TCGA\" + seq[77:]\n",
        "  pl_ss_to_ww.append(new_seq)\n",
        "\n",
        "expected = len(pl_ss_to_ww)\n",
        "pl_ww_to_ss = np.array([seq_to_mat(i) for i in pl_ss_to_ww])\n",
        "\n",
        "pred = 1 - get_prediction(pl_ww_to_ss)\n",
        "np.sum(pred>0.5) / expected * 100"
      ],
      "execution_count": 0,
      "outputs": []
    }
  ]
}